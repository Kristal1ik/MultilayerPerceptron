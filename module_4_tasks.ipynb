{
 "cells": [
  {
   "cell_type": "code",
   "execution_count": null,
   "id": "2b2d784e",
   "metadata": {},
   "outputs": [],
   "source": [
    "import torch"
   ]
  },
  {
   "cell_type": "code",
   "execution_count": null,
   "id": "f6b8245f",
   "metadata": {},
   "outputs": [],
   "source": [
    "def custom_compare(x, y):\n",
    "    if str(x) != str(y):\n",
    "        raise RuntimeError(f'Ожидаемое значение: {y}. Фактическое: {x}')"
   ]
  },
  {
   "cell_type": "code",
   "execution_count": null,
   "id": "cef83271",
   "metadata": {},
   "outputs": [],
   "source": [
    "def to_list(x, precision=2):\n",
    "    return [round(x, precision) for x in x.flatten().tolist()]"
   ]
  },
  {
   "cell_type": "code",
   "execution_count": null,
   "id": "cb903f4f",
   "metadata": {},
   "outputs": [],
   "source": [
    "def to_list_m(m, precision=2):\n",
    "    res = []\n",
    "    \n",
    "    for l in m.tolist():\n",
    "        res.append([round(x, precision) for x in l])\n",
    "        \n",
    "    return res"
   ]
  },
  {
   "cell_type": "markdown",
   "id": "8299078d",
   "metadata": {},
   "source": [
    "# Современные архитектуры свёрточных сетей"
   ]
  },
  {
   "cell_type": "code",
   "execution_count": null,
   "id": "2ed1aab7",
   "metadata": {},
   "outputs": [],
   "source": [
    "from torch.nn import Module, Sequential, Conv2d, MaxPool2d\n",
    "from torch import cat\n",
    "\n",
    "def set_seed():\n",
    "    import random\n",
    "    import numpy as np\n",
    "    import torch\n",
    "    \n",
    "    SEED = 0\n",
    "\n",
    "    random.seed(SEED)\n",
    "    np.random.seed(SEED)\n",
    "    torch.manual_seed(SEED)"
   ]
  },
  {
   "cell_type": "code",
   "execution_count": null,
   "id": "76faf52b",
   "metadata": {},
   "outputs": [],
   "source": [
    "class InceptionBlock(Module):\n",
    "    def __init__(self, c_in, c_1, c_3, c_5):\n",
    "        # Необходимый для проверки корректности работы inception-блока код.\n",
    "        set_seed()\n",
    "        \n",
    "        super().__init__()\n",
    "        \n",
    "        # TODO: Свёртка C1 размера 1x1.\n",
    "        self.c1 = None\n",
    "        \n",
    "        # TODO: Свёртка C5 размера 1x1.\n",
    "        self.c5 = None\n",
    "        # TODO: Свёртка C2 размера 3x3. Параметр padding = 1.\n",
    "        self.c2 = None\n",
    "        \n",
    "        # TODO: Свёртка C6 размера 1x1.\n",
    "        self.c6 = None\n",
    "        # TODO: Свёртка C3 размера 5x5. Параметр padding = 2.\n",
    "        self.c3 = None\n",
    "        \n",
    "        # TODO: MaxPooling 2D MP1 размера 3x3. Параметры stride = 1, padding = 1.\n",
    "        self.mp1 = None\n",
    "        # TODO: Свёртка C4 размера 1x1.\n",
    "        self.c4 = None\n",
    "        \n",
    "        \n",
    "        # Полная ветка блока со свёрткой 3x3.\n",
    "        self.block_3_3 = Sequential(\n",
    "            self.c5,\n",
    "            self.c2,\n",
    "        )\n",
    "        \n",
    "        # Полная ветка блока со свёрткой 5x5.\n",
    "        self.block_5_5 = Sequential(\n",
    "            self.c6,\n",
    "            self.c3,\n",
    "        )\n",
    "        \n",
    "        # Полная ветка блока с MaxPooling 2D.\n",
    "        self.block_pool = Sequential(\n",
    "            self.mp1,\n",
    "            self.c4,\n",
    "        )\n",
    "    \n",
    "    def forward(self, x):\n",
    "        # В качестве результата работы inception-блок возвращает\n",
    "        # соединение по размерности каналов результатов работы внутренних\n",
    "        # свёрток и MaxPooling 2D.\n",
    "        return cat([\n",
    "            self.c1(x),\n",
    "            self.block_3_3(x),\n",
    "            self.block_5_5(x),\n",
    "            self.block_pool(x),\n",
    "        ], dim=1)"
   ]
  },
  {
   "cell_type": "code",
   "execution_count": null,
   "id": "b93f4eb7",
   "metadata": {},
   "outputs": [],
   "source": [
    "def inception_block_test():\n",
    "    example_1_x = torch.tensor([[[[0.28, 0.48], \n",
    "                                  [0.82, 1.0]]\n",
    "                                ]])\n",
    "    example_1_res = [-0.83, -0.83, -0.83, -0.83, -0.59, -0.48, -0.3, -0.2, 0.35, 0.69, 0.27, 0.58, -0.14, -0.15, -0.09, -0.05, 0.23, -0.1, -0.14, -0.33, -0.15, -0.15, -0.15, -0.15, 0.74, 0.74, 0.74, 0.74]\n",
    "    \n",
    "    inception_block_1 = InceptionBlock(1, 2, 1, 2)\n",
    "    \n",
    "    custom_compare(to_list(inception_block_1(example_1_x)), example_1_res)\n",
    "    \n",
    "    \n",
    "    example_2_x = [0.26, 0.37, 0.18, 0.56, 0.94, 0.91, 0.62, 0.21, 0.2, 0.75, 0.75, 0.01, 0.79, 0.62, 0.33, 0.31]\n",
    "    example_2_x = torch.tensor(example_2_x).reshape(2, 2, 2, 2)\n",
    "    \n",
    "    example_2_res = [-0.23, -0.24, -0.35, -0.51, 0.09, 0.08, -0.02, -0.04, -0.17, -0.08, -0.15, -0.17, 0.63, 0.63, 0.63, 0.63, -0.28, -0.35, -0.46, -0.46, 0.1, 0.11, 0.01, -0.12, -0.2, -0.07, -0.14, -0.2, 0.49, 0.49, 0.49, 0.49]\n",
    "    \n",
    "    inception_block_2 = InceptionBlock(2, 1, 1, 1)\n",
    "    \n",
    "    custom_compare(to_list(inception_block_2(example_2_x)), example_2_res)\n",
    "    \n",
    "    print('Тесты прошли успешно!')"
   ]
  },
  {
   "cell_type": "code",
   "execution_count": null,
   "id": "a6ebfef8",
   "metadata": {},
   "outputs": [],
   "source": [
    "inception_block_test()"
   ]
  },
  {
   "cell_type": "markdown",
   "id": "52db8083",
   "metadata": {},
   "source": [
    "# Датасет STL-10"
   ]
  },
  {
   "cell_type": "code",
   "execution_count": null,
   "id": "2db179ca",
   "metadata": {},
   "outputs": [],
   "source": [
    "from torchvision.transforms.functional import pil_to_tensor, to_pil_image"
   ]
  },
  {
   "cell_type": "code",
   "execution_count": null,
   "id": "4c48d813",
   "metadata": {},
   "outputs": [],
   "source": [
    "# Загружаем подмножество изображений из датасета STL-10.\n",
    "stl10_subset_X = torch.load('stl10_subset_X.pt')\n",
    "# Загруажем метки для этих изображений.\n",
    "stl10_subset_y = [int(x) for x in torch.load('stl10_subset_y.pt')]"
   ]
  },
  {
   "cell_type": "code",
   "execution_count": null,
   "id": "505a76d9",
   "metadata": {},
   "outputs": [],
   "source": [
    "# Названия классов из STL-10.\n",
    "# На позиции i в спсике находится название класса с меткой i в данных.\n",
    "stl10_classes = [\n",
    "    'airplane',\n",
    "    'bird',\n",
    "    'car',\n",
    "    'cat',\n",
    "    'deer',\n",
    "    'dog',\n",
    "    'horse',\n",
    "    'monkey',\n",
    "    'ship',\n",
    "    'truck'\n",
    "]"
   ]
  },
  {
   "cell_type": "markdown",
   "id": "2f31fe33",
   "metadata": {},
   "source": [
    "## Примеры изображений из датасета"
   ]
  },
  {
   "cell_type": "code",
   "execution_count": null,
   "id": "cc20a757",
   "metadata": {},
   "outputs": [],
   "source": [
    "import matplotlib.pyplot as plt\n",
    "%matplotlib inline"
   ]
  },
  {
   "cell_type": "code",
   "execution_count": null,
   "id": "dac2768c",
   "metadata": {
    "cellId": "r32v4e4xh3jpckce93cgfr"
   },
   "outputs": [],
   "source": [
    "num_obj = 6\n",
    "\n",
    "fig, ax = plt.subplots(1, num_obj, figsize=(30, 64))\n",
    "\n",
    "seen_classes = set()\n",
    "j = 0\n",
    "for img_tensor, cl in zip(stl10_subset_X, stl10_subset_y):\n",
    "    if cl not in seen_classes:\n",
    "        plt.subplot(1, num_obj, j + 1)\n",
    "        plt.imshow(to_pil_image(img_tensor))\n",
    "        plt.title(f\"Класс '{stl10_classes[cl]}'\")\n",
    "\n",
    "        seen_classes.add(cl)\n",
    "        j += 1\n",
    "        if j == num_obj:\n",
    "            break"
   ]
  },
  {
   "cell_type": "markdown",
   "id": "174f9c7e",
   "metadata": {},
   "source": [
    "# Аугментации"
   ]
  },
  {
   "cell_type": "code",
   "execution_count": null,
   "id": "32f0d1fd",
   "metadata": {
    "cellId": "gfnb1fbm1jnvmy0huwr8"
   },
   "outputs": [],
   "source": [
    "img, cl = to_pil_image(stl10_subset_X[0]), stl10_classes[stl10_subset_y[0]]\n",
    "\n",
    "fig, ax = plt.subplots(figsize=(30, 8))\n",
    "plt.imshow(img)\n",
    "plt.title(f\"Класс '{cl}'\")\n",
    "plt.show()"
   ]
  },
  {
   "cell_type": "code",
   "execution_count": null,
   "id": "97a73556",
   "metadata": {},
   "outputs": [],
   "source": [
    "from torchvision import transforms\n",
    "\n",
    "# Гарантированно отражает изображение вертикально.\n",
    "vertical_flip = transforms.RandomVerticalFlip(1.)\n",
    "\n",
    "# Гарантированно отражает изображение горизонтально.\n",
    "horizontal_flip = transforms.RandomHorizontalFlip(1.)\n",
    "\n",
    "# Гарантированно поворачивает изображение на 30 градусов по часовой стрелке.\n",
    "clockwise_rotation = transforms.RandomRotation((-30, -30))\n",
    "\n",
    "# Гарантированно поворачивает изображение на 30 градусов против часовой стрелки.\n",
    "counter_clockwise_rotation = transforms.RandomRotation((30, 30))\n",
    "\n",
    "# Уменьшает яркость.\n",
    "lower_brightness = transforms.ColorJitter(brightness=(0.3, 0.3))\n",
    "\n",
    "# Увеличивает яркость.\n",
    "increase_brightness = transforms.ColorJitter(brightness=(1.7, 1.7))\n",
    "\n",
    "# Уменьшает насыщенность.\n",
    "lower_saturation = transforms.ColorJitter(saturation=(0.3, 0.3))\n",
    "\n",
    "# Увеличивает насыщенность.\n",
    "increase_saturation = transforms.ColorJitter(saturation=(4., 4.))"
   ]
  },
  {
   "cell_type": "markdown",
   "id": "24c0294d",
   "metadata": {},
   "source": [
    "## Подбор аугментаций"
   ]
  },
  {
   "cell_type": "code",
   "execution_count": null,
   "id": "721d8cd0",
   "metadata": {},
   "outputs": [],
   "source": [
    "needed_img = to_pil_image(torch.load('bird_transformed.pt'))"
   ]
  },
  {
   "cell_type": "code",
   "execution_count": null,
   "id": "453f3ba8",
   "metadata": {
    "cellId": "hg4759bvydf37cjlx22pm8"
   },
   "outputs": [],
   "source": [
    "# Необходимо подобрать аугментации изображения и указать\n",
    "# их в качестве элементов списка внутри Compose.\n",
    "transforms_func = transforms.Compose([\n",
    "    None\n",
    "])\n",
    "\n",
    "fig, ax = plt.subplots(1, 2, figsize=(30, 8))\n",
    "plt.subplot(121)\n",
    "plt.imshow(transforms_func(img))\n",
    "plt.title(f\"Получилось после аугментаций\")\n",
    "plt.subplot(122)\n",
    "plt.imshow(needed_img)\n",
    "plt.title(\"Должно получиться\")\n",
    "plt.show()"
   ]
  },
  {
   "cell_type": "markdown",
   "id": "3e8c2f46",
   "metadata": {},
   "source": [
    "# Использование предобученных моделей"
   ]
  },
  {
   "cell_type": "code",
   "execution_count": null,
   "id": "cabd16ca",
   "metadata": {},
   "outputs": [],
   "source": [
    "from torchvision import models\n",
    "\n",
    "weights = models.ResNet50_Weights.DEFAULT"
   ]
  },
  {
   "cell_type": "code",
   "execution_count": null,
   "id": "8f4a2303",
   "metadata": {},
   "outputs": [],
   "source": [
    "# Функция для преобразования входных данных — transforms.\n",
    "model_transform = weights.transforms()\n",
    "\n",
    "# TODO: Необходимо собрать модель ResNet-50 из models.resnet50,\n",
    "#       подгрузив в неё веса из переменной weights.\n",
    "#       По аналогии с тем, как это было в лекции.\n",
    "model = None"
   ]
  },
  {
   "cell_type": "code",
   "execution_count": null,
   "id": "2461d628",
   "metadata": {},
   "outputs": [],
   "source": [
    "model"
   ]
  },
  {
   "cell_type": "code",
   "execution_count": null,
   "id": "c7527324",
   "metadata": {},
   "outputs": [],
   "source": [
    "# TODO: Необходимо преобразовать с помощью\n",
    "#       model_transform значения из stl10_subset_X,\n",
    "#       используя model_transform как обычную функцию.\n",
    "#       Это нужно для того, чтобы привести изображения из STL-10\n",
    "#       к формату, в котором с ними работает ResNet-50,\n",
    "#       обученная на ImageNet.\n",
    "stl10_res_subset_X = None"
   ]
  },
  {
   "cell_type": "code",
   "execution_count": null,
   "id": "03c0aacc",
   "metadata": {},
   "outputs": [],
   "source": [
    "stl10_res_subset_X.shape"
   ]
  },
  {
   "cell_type": "code",
   "execution_count": null,
   "id": "39279a5b",
   "metadata": {},
   "outputs": [],
   "source": [
    "# Предсказание классов для изображений из STL-10 с помощью ResNet-50.\n",
    "with torch.no_grad():\n",
    "    pred = model(stl10_res_subset_X).max(-1).indices"
   ]
  },
  {
   "cell_type": "markdown",
   "id": "ec92869a",
   "metadata": {},
   "source": [
    "## Анализ результатов"
   ]
  },
  {
   "cell_type": "code",
   "execution_count": null,
   "id": "2ca302f3",
   "metadata": {},
   "outputs": [],
   "source": [
    "with open('imagenet_classes.txt', 'r') as f:\n",
    "    imagenet_classes = {}\n",
    "    \n",
    "    for x in f:\n",
    "        ind, cls = x.strip().split(';')\n",
    "        imagenet_classes[int(ind)] = cls"
   ]
  },
  {
   "cell_type": "code",
   "execution_count": null,
   "id": "4ebb67df",
   "metadata": {},
   "outputs": [],
   "source": [
    "# Ниже приведены 16 изображений из STL-10, для каждого из которых с помощью ResNet-50\n",
    "# был предсказан класс в соответствии с теми классами, которые есть в ImageNet.\n",
    "# У датасетов есть пересечение по классам, поэтому модель корректно\n",
    "# классифицирует часть изображений из STL-10.\n",
    "\n",
    "num_obj = 16\n",
    "\n",
    "fig, ax = plt.subplots(4, 4, figsize=(30, 32))\n",
    "\n",
    "seen_classes = set()\n",
    "j = 0\n",
    "for img_tensor, cl in zip(stl10_subset_X, pred):\n",
    "    if cl not in seen_classes:\n",
    "        plt.subplot(4, 4, j + 1)\n",
    "        plt.imshow(to_pil_image(img_tensor))\n",
    "        plt.title(f\"Класс '{imagenet_classes[int(cl)]}'\")\n",
    "\n",
    "        seen_classes.add(cl)\n",
    "        j += 1\n",
    "        if j == num_obj:\n",
    "            break"
   ]
  },
  {
   "cell_type": "markdown",
   "id": "68ea1000",
   "metadata": {},
   "source": [
    "## Значение, которое нужно отправить в систему"
   ]
  },
  {
   "cell_type": "code",
   "execution_count": null,
   "id": "91dda2e0",
   "metadata": {},
   "outputs": [],
   "source": [
    "print(to_list(pred))"
   ]
  }
 ],
 "metadata": {
  "kernelspec": {
   "display_name": "Python 3 (ipykernel)",
   "language": "python",
   "name": "python3"
  },
  "language_info": {
   "codemirror_mode": {
    "name": "ipython",
    "version": 3
   },
   "file_extension": ".py",
   "mimetype": "text/x-python",
   "name": "python",
   "nbconvert_exporter": "python",
   "pygments_lexer": "ipython3",
   "version": "3.9.5"
  }
 },
 "nbformat": 4,
 "nbformat_minor": 5
}
