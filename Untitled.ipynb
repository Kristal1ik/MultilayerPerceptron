{
 "cells": [
  {
   "cell_type": "code",
   "execution_count": 3,
   "id": "8479f1f3-4264-49b0-b58b-d0617df7b0ac",
   "metadata": {
    "tags": []
   },
   "outputs": [
    {
     "data": {
      "text/plain": [
       "array([1, 2])"
      ]
     },
     "execution_count": 3,
     "metadata": {},
     "output_type": "execute_result"
    }
   ],
   "source": [
    "import numpy as np\n",
    "\n",
    "a = np.array([1, 2])\n",
    "a"
   ]
  },
  {
   "cell_type": "code",
   "execution_count": null,
   "id": "647d400e-8342-4428-b8a7-688906e0d9e6",
   "metadata": {},
   "outputs": [],
   "source": [
    "import numpy as np\n",
    "\n",
    "lst = np.array([1, 2, 3, 4, 5, 6])\n",
    "elem = 3\n",
    "right = len(lst) - 1\n",
    "left = 0\n",
    "while True:\n",
    "    middle = (right + left) // 2\n",
    "    if lst[ind] == elem:\n",
    "        print(ind)\n",
    "        break\n",
    "    elif lst[ind] < elem:\n",
    "        left = ind + 1\n",
    "    else:\n",
    "        right = middle\n",
    "    "
   ]
  },
  {
   "cell_type": "code",
   "execution_count": null,
   "id": "396baab5-1c8c-4e65-b5d2-dd2d098ffdb4",
   "metadata": {},
   "outputs": [],
   "source": []
  },
  {
   "cell_type": "code",
   "execution_count": null,
   "id": "040dba78-2a78-4323-b27e-c2e9e4120853",
   "metadata": {},
   "outputs": [],
   "source": []
  }
 ],
 "metadata": {
  "kernelspec": {
   "display_name": "Python 3 (ipykernel)",
   "language": "python",
   "name": "python3"
  },
  "language_info": {
   "codemirror_mode": {
    "name": "ipython",
    "version": 3
   },
   "file_extension": ".py",
   "mimetype": "text/x-python",
   "name": "python",
   "nbconvert_exporter": "python",
   "pygments_lexer": "ipython3",
   "version": "3.10.6"
  }
 },
 "nbformat": 4,
 "nbformat_minor": 5
}
